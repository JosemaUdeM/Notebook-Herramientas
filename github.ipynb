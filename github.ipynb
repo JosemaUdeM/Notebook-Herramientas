{
 "cells": [
  {
   "cell_type": "markdown",
   "metadata": {},
   "source": [
    "## Github"
   ]
  },
  {
   "cell_type": "markdown",
   "metadata": {},
   "source": [
    "1. registrar cambios (añadirlos al Index) usando:  \n",
    "\n",
    "git add nombrearchivo\n",
    "\n",
    "git add .  \n",
    "\n",
    "Para hacer **commit** a estos cambios usa\n",
    "git commit -m \"Commit message\"\n",
    "Ahora el archivo esta incluído en el HEAD, pero aún no en tu repositorio remoto. \n",
    "\n",
    "Tus cambios están ahora en el HEAD de tu copia local. Para **enviar estos cambios a tu repositorio remoto** ejecuta  \n",
    "\n",
    "git push origin master  \n",
    "\n",
    "Reemplaza master por la rama a la que quieres enviar tus cambios.\n"
   ]
  },
  {
   "cell_type": "markdown",
   "metadata": {},
   "source": [
    "Si no has clonado un repositorio ya existente y **quieres conectar tu repositorio local a un repositorio remoto**, usa  \n",
    "\n",
    "git remote add origin \"server\""
   ]
  },
  {
   "cell_type": "markdown",
   "metadata": {},
   "source": [
    "##  RAMAS Las ramas son utilizadas para desarrollar funcionalidades aisladas unas de otras."
   ]
  },
  {
   "cell_type": "markdown",
   "metadata": {},
   "source": [
    "- **Crear una rama** llamara \"feature_x\" :  \n",
    "    \n",
    "git checkout -b feature_x\n",
    "\n",
    "- **Volver a la rama principal**  \n",
    "\n",
    "git checkout master  \n",
    "- **borrar un rama**:  \n",
    "git branch -d feature_x  \n"
   ]
  },
  {
   "cell_type": "markdown",
   "metadata": {},
   "source": [
    "- Una rama nueva no estará disponible para los demás a menos que subas (push) la rama a tu repositorio remoto  \n",
    "git push origin rama"
   ]
  },
  {
   "cell_type": "markdown",
   "metadata": {},
   "source": [
    "## Actualiza & fusiona"
   ]
  },
  {
   "cell_type": "markdown",
   "metadata": {},
   "source": [
    "- Para actualizar tu repositorio local al commit más nuevo, ejecuta\n",
    "git pull\n",
    "- Para fusionar otra rama a tu rama activa (por ejemplo master), utiliza\n",
    "git merge rama\n",
    "- Antes de fusionar los cambios, puedes revisarlos usando\n",
    "git diff <source_branch> <target_branch>"
   ]
  },
  {
   "cell_type": "markdown",
   "metadata": {},
   "source": [
    "## reemplaza cambios locales"
   ]
  },
  {
   "cell_type": "markdown",
   "metadata": {},
   "source": [
    "- reemplazar cambios locales git checkout -- nombrearchivo\n",
    "-  deshacer todos los cambios locales y commits git fetch origin\n",
    "- git reset --hard origin/master"
   ]
  },
  {
   "cell_type": "markdown",
   "metadata": {},
   "source": [
    "- git init:Crear un repositorio vacío de Git o inicializar una ya existente\n",
    "- git  clone  Clonar un repositorio en un nuevo directorio\n",
    "- git add añadir el contenido del archivo al índice\n",
    "- git mv mover o cambiar el nombre de un archivo, un directorio o un enlace simbólico\n",
    "- git resert restablecer HEAD y en el estado especificado\n",
    "- git rm Eliminar archivos del directorio de trabajo y del índice\n",
    "- git bisect usar la búsqueda binaria para encontrar el envío de datos que introdujo un error\n",
    "- git grep  líneas de impresión que coincidan con un patrón"
   ]
  },
  {
   "cell_type": "markdown",
   "metadata": {},
   "source": [
    "- git log mostrar registro de los commits\n",
    "- git show Mostrar diversos tipos de objetos\n",
    "- git status Mostrar el estado de árbol de trabajo\n",
    "- git branch crear o eliminar ramas\n",
    "- git checkout Cambiar ramas o restaurar los archivos del árbol de trabajo\n",
    "- git diff\n",
    "- merge Unir dos o más historias de desarrollo conjunto\n",
    "- fetch descargar objetos y referencias de otro repositorio"
   ]
  },
  {
   "cell_type": "markdown",
   "metadata": {},
   "source": [
    "git add.  \n",
    "\n",
    "git commit -m \"etiqueta\"  \n",
    "\n",
    "git push\n"
   ]
  },
  {
   "cell_type": "markdown",
   "metadata": {},
   "source": [
    "Comandos Básicos de Git\n",
    "\n",
    "Fuente: http://jonas.nitro.dk/git/quick-reference.html\n",
    "\n",
    "a) Buscando Ayuda:\n",
    "\n",
    "1. git help comando ó git comando --help\n",
    "\n",
    "    Muestra la ayuda para ese comando\n",
    "\n",
    "b) Creación de un repositorio:\n",
    "\n",
    "2. git init\n",
    "\n",
    "    Crea un repositorio en el directorio actual\n",
    "\n",
    "3. git clone url\n",
    "\n",
    "    Clona un repositorio remoto dentro de un directorio\n",
    "\n",
    "c) Operaciones sobre Archivos:\n",
    "\n",
    "4. git add path\n",
    "\n",
    "    Adiciona un archivo o un directorio de manera recursiva\n",
    "\n",
    "5. git rm ruta\n",
    "\n",
    "    Remueve un archivo o directorio del árbol de trabajo\n",
    "\n",
    "      -f : Fuerza la eliminación de un archivo del repositorio\n",
    "\n",
    "6. git mv origen destino\n",
    "\n",
    "    Mueve el archivo o directorio a una nueva ruta\n",
    "\n",
    "      -f : Sobre-escribe los archivos existentes en la ruta destino\n",
    "\n",
    "7. git checkout [rev] archivo\n",
    "\n",
    "    Recupera un archivo desde la rama o revisión actual\n",
    "\n",
    "      -f : Sobre-escribe los cambios locales no guardados\n",
    "\n",
    "d) Trabajando sobre el código:\n",
    "\n",
    "8. git status\n",
    "\n",
    "    Imprime un reporte del estado actual del árbol de trabajo local\n",
    "\n",
    "9. git diff [ruta]\n",
    "\n",
    "    Muestra la diferencia entre los cambios en el árbol de trabajo local\n",
    "\n",
    "10. git diff HEAD ruta\n",
    "\n",
    "    Muestra las diferencias entre los cambios registrados y los no registrados\n",
    "\n",
    "11. git add path\n",
    "\n",
    "    Selecciona el archivo para que sea incluido en el próximo commit\n",
    "\n",
    "12. git reset HEAD ruta\n",
    "\n",
    "    Marca el archivo para que no sea incluido en el próximo commit\n",
    "\n",
    "13. git commit\n",
    "\n",
    "    Realiza el commit de los archivos que han sido registrados (con git-add)\n",
    "\n",
    "      -a : Automáticamente registra todos los archivos modificados\n",
    "\n",
    "14. git reset --soft HEAD^\n",
    "\n",
    "    Deshace commit & conserva los cambios en el árbol de trabajo local\n",
    "\n",
    "15. git reset --hard HEAD^\n",
    "\n",
    "    Restablece el árbol de trabajo local a la versión del ultimo commit\n",
    "\n",
    "16. git clean\n",
    "\n",
    "    Elimina archivos desconocidos del árbol de trabajo local\n",
    "\n",
    "e) Examinando el histórico:\n",
    "\n",
    "17. git log [ruta]\n",
    "\n",
    "    Muestra el log del commit, opcionalmente de la ruta especifica\n",
    "\n",
    "18. git log [desde [..hasta]]\n",
    "\n",
    "    Muestra el log del commit para un rango de revisiones dado\n",
    "\n",
    "      --stat : Lista el reporte de diferencias de cada revisión\n",
    "\n",
    "      -S'pattern' : Busca el historial de cambios que concuerden con el patrón de búsqueda\n",
    "\n",
    "19. git blame [archivo]\n",
    "\n",
    "    Muestra el archivo relacionado con las modificaciones realizadas\n",
    "\n",
    "f) Repositorios remotos:\n",
    "\n",
    "20. git fetch [remote]\n",
    "\n",
    "    Trae los cambios desde un repositorio remoto\n",
    "\n",
    "21. git pull [remote]\n",
    "\n",
    "    Descarga y guarda los cambios realizados desde un repositorio remoto\n",
    "\n",
    "22. git push [remote]\n",
    "\n",
    "    Guarda los cambios en un repositorio remoto\n",
    "\n",
    "23. git remote\n",
    "\n",
    "    Lista los repositorios remotos\n",
    "\n",
    "24. git remote add remote url\n",
    "\n",
    "    Añade un repositorio remoto a la lista de repositorios registrados\n",
    "\n",
    "g) Ramas:\n",
    "\n",
    "25. git checkout rama\n",
    "\n",
    "    Cambia el árbol de trabajo local a la rama indicada\n",
    "\n",
    "      -b rama : Crea la rama antes de cambiar el árbol de trabajo local a dicha rama\n",
    "\n",
    "26. git branch\n",
    "\n",
    "    Lista las ramas locales\n",
    "\n",
    "27. git branch -f rama rev\n",
    "\n",
    "    Sobre-escribe la rama existente y comienza desde la revisión\n",
    "\n",
    "28. git merge rama\n",
    "\n",
    "    Guarda los cambios desde la rama\n",
    "\n",
    "h) Exportando e importando:\n",
    "\n",
    "29. git apply - < archivo\n",
    "\n",
    "    Aplica el parche desde consola (stdin)\n",
    "\n",
    "30. git format-patch desde [..hasta]\n",
    "\n",
    "    Formatea un parche con un mensaje de log y un reporte de diferencias (diffstat)\n",
    "\n",
    "31. git archive rev > archivo\n",
    "\n",
    "    Exporta resumen de la revisión (snapshot) a un archivo\n",
    "\n",
    "      --prefix=dir/ : Anida todos los archivos del snapshot en el directorio\n",
    "\n",
    "      --format=[tar|zip] : Especifica el formato de archivo a utilizar: tar or zip\n",
    "\n",
    "i) Etiquetas:\n",
    "\n",
    "32. git tag name [revision]\n",
    "\n",
    "    Crea una etiqueta para la revisión referida\n",
    "\n",
    "      -s : Firma la etiqueta con su llave privada usando GPG\n",
    "\n",
    "      -l [patrón] : Imprime etiquetas y opcionalmente los registros que concuerden con el patrón de busqueda\n",
    "\n",
    "j) Banderas de Estado de los Archivos:\n",
    "\n",
    "M (modified) : El archivo ha sido modificado\n",
    "\n",
    "C (copy-edit) : El archivo ha sido copiado y modificado\n",
    "\n",
    "R (rename-edit) : El archivo ha sido renombrado y modificado\n",
    "\n",
    "A (added) : El archivo ha sido añadido\n",
    "\n",
    "D (deleted) : El archivo ha sido eliminado\n",
    "\n",
    "U (unmerged) : El archivo presenta conflictos después de ser guardado en el servidor (merge)\n"
   ]
  },
  {
   "cell_type": "markdown",
   "metadata": {},
   "source": [
    "git commit --amend  # Modificar el mensaje del último commit  \n",
    "git checkout -- <file> # Descartar cambios en el directorio de trabajo\n"
   ]
  },
  {
   "cell_type": "markdown",
   "metadata": {},
   "source": [
    "RECOMENDACION:\n",
    "Siempre hay que hacer pull antes de push en caso de que alguien haya subido cambios al servidor."
   ]
  },
  {
   "cell_type": "markdown",
   "metadata": {},
   "source": [
    "BRANCH\n",
    "\n",
    "Las ramas simplememte son punteros a distintos snapshots\n",
    "\n",
    "    git branch <nombre-rama> # crea rama. Puntero al commit actual\n",
    "    git checkout <nombre-rama> # cambiar a la rama especificada.\n",
    "    git checkout -b <nombre-rama> # crea y cambia de rama\n",
    "    git merge <rama> # Mezcla la rama actual con <rama>\n",
    "    git branch -d <rama> # elimina la rama\n",
    "    git push origin --delete <branchName> # Elimina una rama del servidor\n",
    "    git mergetool # Herramienta gráfica para resolver conflictos\n",
    "    git branch # lista ramas\n",
    "    git branch -v # lista ramas mostrando último commit\n",
    "    git branch --merged # lista ramas que han sido mezcladas con la actual. Si no tienen un *, pueden borrarse, ya que significa que se han incorporado los cambios en la rama actual.\n",
    "    git branch --no-merged # lista ramas que no han sido incorporadas a la actual."
   ]
  },
  {
   "cell_type": "code",
   "execution_count": null,
   "metadata": {
    "collapsed": true
   },
   "outputs": [],
   "source": []
  }
 ],
 "metadata": {
  "kernelspec": {
   "display_name": "VPython",
   "language": "python",
   "name": "vpython"
  },
  "language_info": {
   "codemirror_mode": {
    "name": "ipython",
    "version": 2
   },
   "file_extension": ".py",
   "mimetype": "text/x-python",
   "name": "python",
   "nbconvert_exporter": "python",
   "pygments_lexer": "ipython2",
   "version": "2.7.12"
  }
 },
 "nbformat": 4,
 "nbformat_minor": 0
}

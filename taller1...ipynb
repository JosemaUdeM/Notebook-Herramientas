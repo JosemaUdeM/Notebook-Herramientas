{
 "cells": [
  {
   "cell_type": "markdown",
   "metadata": {},
   "source": [
    "# Taller 1: Condiciones  \n",
    "\n",
    "La presentación de este taller cumple la evaluación del progreso en los siguientes elementos del curso:  \n",
    "\n",
    "+ Linux.  \n",
    "    + Uso básico de comandos en consola.  \n",
    "    + _Scripting_ en bash.  \n",
    "+ Jupyter Notebooks.  \n",
    "    + Uso de celdas markdown y de código.  \n",
    "    + Visualización dinamica con IPython API.  \n",
    "+ LaTeX.  \n",
    "    + Escritura de ecuaciones en LaTeX.  \n",
    "    + Edición en LaTeX puro.  \n",
    "    \n",
    "Para la entrega de este documento se requiere entregar en formato zip al correo del docente, el documento principal `Taller_1.ipynb`, donde usted desarrolla las actividades documentando y ejecutando su código, y todo archivo adicional que se genere acorde a las solicitudes del taller. El archivo comprimido debe tener la secuencia de nombre dada por su documento de identidad, apellido y `T1`, ejemplo `1111111111ApellidoT1.zip`.  \n",
    "\n",
    "El plazo de la entrega es 20 de agosto a la medianoche.   \n",
    "\n",
    "Puede usar cualquier _magic_ que requiera (de única linea o de múltiple linea). El único `import` que puede usar en este notebook es:  "
   ]
  },
  {
   "cell_type": "code",
   "execution_count": 1,
   "metadata": {
    "collapsed": false
   },
   "outputs": [],
   "source": [
    "from __future__ import print_function, division # Compatibilidad python 2 y 3\n",
    "try: # En caso de tener instalado numpy puede importarlo.\n",
    "    from numpy import array\n",
    "except:\n",
    "    print(\"Si desea usar numpy, por favor instale.\")\n",
    "from IPython.display import display, Latex, Markdown # Visualización de salida de código\n"
   ]
  },
  {
   "cell_type": "markdown",
   "metadata": {},
   "source": [
    "## Punto 1 (0,8 unidades)  \n",
    "\n",
    "Realice una función python en la celda siguiente, que dados dos polinomios de grado arbitrario (es libre de representarlos como desee) devuelva su suma renderizada como ecuación en el notebook.  "
   ]
  },
  {
   "cell_type": "code",
   "execution_count": 2,
   "metadata": {
    "collapsed": false
   },
   "outputs": [],
   "source": [
    "#función diseñada para suma de polinomios como maximo de grado 3\n",
    "\n",
    "\n",
    "def sumpoli(v1,v2):\n",
    "    \n",
    "    er=\"\" \n",
    "    x3=v1[0]+v2[0]\n",
    "    x2=v1[1]+v2[1]\n",
    "    x1=v1[2]+v2[2]\n",
    "    d=v1[3]+v2[3]\n",
    "    \n",
    "    if x3>=1:\n",
    "        \n",
    "        er=\"$\"+str(x3)+\"x^3\"+\"+\"+str(x2)+\"x^2\"+\"+\"+str(x1)+\"x\"+\"+\"+str(d)+\"$\"\n",
    "    \n",
    "    if d<=0:\n",
    "        \n",
    "        er=\"$\"+str(x3)+\"x^3\"+\"+\"+str(x2)+\"x^2\"+\"+\"+str(x1)+\"x\"+str(d)+\"$\"\n",
    "    \n",
    "        \n",
    "    else:\n",
    "        \n",
    "        er=\"$\"+str(x2)+\"x^2\"+\"+\"+str(x1)+\"x\"+\"+\"+str(d)+\"$\"\n",
    "    if x1==0:\n",
    "         er=\"$\"+str(x2)+\"x^2\"+\"+\"+str(d)+\"$\"\n",
    "            \n",
    "    \n",
    "    return er\n",
    "        "
   ]
  },
  {
   "cell_type": "markdown",
   "metadata": {},
   "source": [
    "En la celda a continuación evalue los casos de prueba:  \n",
    "\n",
    "+ $(x^2+1) + 5,$  \n",
    "+ $(3{,}2x^3 + x^2 + 5x) + (2x^2 - 0{,}1).$  "
   ]
  },
  {
   "cell_type": "code",
   "execution_count": 3,
   "metadata": {
    "collapsed": false
   },
   "outputs": [
    {
     "data": {
      "text/markdown": [
       "$1x^2+6$"
      ],
      "text/plain": [
       "<IPython.core.display.Markdown object>"
      ]
     },
     "metadata": {},
     "output_type": "display_data"
    },
    {
     "data": {
      "text/markdown": [
       "$3.2x^3+3x^2+5x-0.1$"
      ],
      "text/plain": [
       "<IPython.core.display.Markdown object>"
      ]
     },
     "metadata": {},
     "output_type": "display_data"
    }
   ],
   "source": [
    "v1=[0,1,0,1]\n",
    "v2=[0,0,0,5]\n",
    "p1=sumpoli(v1,v2)\n",
    "display(Markdown(p1))\n",
    "v1=[3.2,1,5,0]\n",
    "v2=[0,2,0,-0.1]\n",
    "p2=sumpoli(v1,v2)\n",
    "display(Markdown(p2))"
   ]
  },
  {
   "cell_type": "markdown",
   "metadata": {},
   "source": [
    "## Punto 2  (0,5 unidades)\n",
    "\n",
    "Realice una tabla markdown que muestre las equivalencias de constantes y funciones matematicas renderizadas adecuadamente con el comando LaTeX que los genera. La primera columna debe ser centrada y la segunda alineada a la derecha.  \n",
    "\n",
    "+ Constante pi.  \n",
    "+ Proporción aurea.  \n",
    "+ Función gamma.  \n",
    "+ Función exponencial.  \n",
    "+ Una expresión fraccionaria.  \n",
    "\n",
    "Cree una celda debajo de esta del tipo adecuado para solucionar. "
   ]
  },
  {
   "cell_type": "markdown",
   "metadata": {},
   "source": [
    "\n",
    "\n",
    "| Constantes y funciones  | Comando LaTeX |\n",
    "|:---:|---:|\n",
    "|$\\pi$|\\pi|\n",
    "|$\\phi$|\\phi|\n",
    "|$\\Gamma( x )$|\\Gamma(x)|\n",
    "|$e^x$|e^x|\n",
    "|$\\frac{a}{b}$| \\frac{a}{b}|"
   ]
  },
  {
   "cell_type": "markdown",
   "metadata": {},
   "source": [
    "## Punto 3  (1,2 unidades)\n",
    "\n",
    "Cree la celda requerida para este punto inmediatamente a continuación. Debe crear desde la celda un archivo para ejecución con los permisos adecuados para ser ejecutado por el propietario y por los usuarios que no pertenezcan al mismo grupo del propietario. El comportamiento del _script_ se describe a continuación:  \n",
    "\n",
    "+ Debe recibir como argumento una url de una imagen png. No se requiere validar formato.  \n",
    "+ Debe crear un directorio `punto3` en el directorio de descargas del usuario actual, sin afectar el directorio en caso de existir.  \n",
    "+ Si el directorio ya existe, valida la presencia de archivos `.png`, y solo en caso de existir procede a eliminar cualquier archivo presente (asi no sea de imagen).  \n",
    "+ Debe descargar la imagen al directorio `punto3` con el nombre `descarga.png`.  \n",
    "+ Mover el directorio `punto3` al directorio de este notebook.  \n",
    "+ Extraiga la imagen del directorio `punto3` al directorio del notebook con el nombre `extra.png`.  \n",
    "+ Elimine el directorio `punto3`.  \n",
    "\n",
    "En la misma celda ejecute el _script_ que creo."
   ]
  },
  {
   "cell_type": "code",
   "execution_count": 4,
   "metadata": {
    "collapsed": false
   },
   "outputs": [
    {
     "name": "stdout",
     "output_type": "stream",
     "text": [
      "/home/manuela/Documentos\n"
     ]
    },
    {
     "name": "stderr",
     "output_type": "stream",
     "text": [
      "--2016-08-27 14:54:57--  http://jupyter.org/assets/main-logo.svg\n",
      "Resolviendo jupyter.org (jupyter.org)... 104.28.8.110, 104.28.9.110\n",
      "Conectando con jupyter.org (jupyter.org)[104.28.8.110]:80... conectado.\n",
      "Petición HTTP enviada, esperando respuesta... 200 OK\n",
      "Longitud: no especificado [image/svg+xml]\n",
      "Grabando a: “descarga.png”\n",
      "\n",
      "     0K .......                                                 555K=0,01s\n",
      "\n",
      "2016-08-27 14:54:57 (555 KB/s) - “descarga.png” guardado [7834]\n",
      "\n"
     ]
    }
   ],
   "source": [
    "%%bash\n",
    "dir=$(pwd)\n",
    "echo $dir\n",
    "touch archivo.sh && chmod 757 archivo.sh\n",
    "echo http://jupyter.org/assets/main-logo.svg>archivo.sh\n",
    "cd $HOME/Descargas\n",
    "mkdir -p  punto3\n",
    "cd punto3\n",
    "#validar la precencia de archivos en un directorio?\n",
    "wget -O descarga.png http://jupyter.org/assets/main-logo.svg\n",
    "#busca archivo en un directorio\n",
    "cd $HOME/Descargas\n",
    "mv punto3 $dir\n",
    "cd $dir\n",
    "cd punto3\n",
    "mv descarga.png $dir/extra.png\n",
    "cd $dir\n",
    "rmdir punto3\n",
    "\n",
    "\n",
    "\n",
    "\n",
    "\n",
    "\n",
    "\n",
    "\n"
   ]
  },
  {
   "cell_type": "markdown",
   "metadata": {},
   "source": [
    "## Punto 4  (1,5 unidad)\n",
    "\n",
    "Para este punto, el valor del punto corresponderá a la unidad dividida entre el número de celdas que recurra para la solución. Debe crear un archivo simple de LaTeX en este directorio con las siguientes especificaciones, desde el notebook.  \n",
    "\n",
    "+ Tamaño de letra 14.  \n",
    "+ Tamaño de documento carta.  \n",
    "+ Versión borrador.  \n",
    "+ Su nombre como autor y titulo del documento `latex_taller`.  \n",
    "+ Generación de la portada por comando LaTeX.  \n",
    "+ Genere una redacción simple ilustrando las siguientes acciones en LaTeX.  \n",
    "    + Titulo de primer y segundo nivel.  \n",
    "    + Incluir la imagen `extra.png`.  \n",
    "    + Incluir la tabla del punto 2.  \n",
    "    + Incluir en ambiente de ecuación la suma del segundo polinomio del punto 1, con coma decimal sin usar la coma de forma explicita.   \n",
    "    + Incluir la bibliografía usada para este notebook sin citación pero debe visualizarse.  \n",
    "    + El documento debe tener fecha automatica en formato acorde al español.  \n",
    "    \n",
    "Compile el archivo a pdf, y cree un enlace del notebook al pdf (a partir de la misma celda).  "
   ]
  },
  {
   "cell_type": "code",
   "execution_count": 5,
   "metadata": {
    "collapsed": false
   },
   "outputs": [
    {
     "name": "stdout",
     "output_type": "stream",
     "text": [
      "This is pdfTeX, Version 3.1415926-2.5-1.40.14 (TeX Live 2013/Debian)\n",
      " restricted \\write18 enabled.\n",
      "entering extended mode\n",
      "(./taller1.txt\n",
      "LaTeX2e <2011/06/27>\n",
      "Babel <3.9h> and hyphenation patterns for 5 languages loaded.\n",
      "(/usr/share/texlive/texmf-dist/tex/latex/base/article.cls\n",
      "Document Class: article 2007/10/19 v1.4h Standard LaTeX document class\n",
      "(/usr/share/texlive/texmf-dist/tex/latex/base/size10.clo))\n",
      "(/usr/share/texmf/tex/latex/lm/lmodern.sty)\n",
      "(/usr/share/texlive/texmf-dist/tex/latex/base/fontenc.sty\n",
      "(/usr/share/texlive/texmf-dist/tex/latex/base/t1enc.def))\n",
      "(/usr/share/texlive/texmf-dist/tex/generic/babel/babel.sty\n",
      "(/usr/share/texlive/texmf-dist/tex/generic/babel-spanish/spanish.ldf\n",
      "(/usr/share/texlive/texmf-dist/tex/generic/babel/babel.def)))\n",
      "(/usr/share/texlive/texmf-dist/tex/latex/mh/mathtools.sty\n",
      "(/usr/share/texlive/texmf-dist/tex/latex/graphics/keyval.sty)\n",
      "(/usr/share/texlive/texmf-dist/tex/latex/tools/calc.sty)\n",
      "(/usr/share/texlive/texmf-dist/tex/latex/mh/mhsetup.sty)\n",
      "(/usr/share/texlive/texmf-dist/tex/latex/amsmath/amsmath.sty\n",
      "For additional information on amsmath, use the `?' option.\n",
      "(/usr/share/texlive/texmf-dist/tex/latex/amsmath/amstext.sty\n",
      "(/usr/share/texlive/texmf-dist/tex/latex/amsmath/amsgen.sty))\n",
      "(/usr/share/texlive/texmf-dist/tex/latex/amsmath/amsbsy.sty)\n",
      "(/usr/share/texlive/texmf-dist/tex/latex/amsmath/amsopn.sty)))\n",
      "(/usr/share/texlive/texmf-dist/tex/latex/base/inputenc.sty\n",
      "(/usr/share/texlive/texmf-dist/tex/latex/base/utf8.def\n",
      "(/usr/share/texlive/texmf-dist/tex/latex/base/t1enc.dfu)\n",
      "(/usr/share/texlive/texmf-dist/tex/latex/base/ot1enc.dfu)\n",
      "(/usr/share/texlive/texmf-dist/tex/latex/base/omsenc.dfu)))\n",
      "(/usr/share/texlive/texmf-dist/tex/latex/url/url.sty)\n",
      "(/usr/share/texlive/texmf-dist/tex/latex/graphics/graphicx.sty\n",
      "(/usr/share/texlive/texmf-dist/tex/latex/graphics/graphics.sty\n",
      "(/usr/share/texlive/texmf-dist/tex/latex/graphics/trig.sty)\n",
      "(/usr/share/texlive/texmf-dist/tex/latex/latexconfig/graphics.cfg)\n",
      "(/usr/share/texlive/texmf-dist/tex/latex/pdftex-def/pdftex.def\n",
      "(/usr/share/texlive/texmf-dist/tex/generic/oberdiek/infwarerr.sty)\n",
      "(/usr/share/texlive/texmf-dist/tex/generic/oberdiek/ltxcmds.sty))))\n",
      "\n",
      "LaTeX Warning: Unused global option(s):\n",
      "    [14pt].\n",
      "\n",
      "No file taller1.aux.\n",
      "(/usr/share/texmf/tex/latex/lm/t1lmr.fd)\n",
      "(/usr/share/texlive/texmf-dist/tex/context/base/supp-pdf.mkii\n",
      "[Loading MPS to PDF converter (version 2006.09.02).]\n",
      ") (/usr/share/texlive/texmf-dist/tex/generic/oberdiek/pdftexcmds.sty\n",
      "(/usr/share/texlive/texmf-dist/tex/generic/oberdiek/ifluatex.sty)\n",
      "(/usr/share/texlive/texmf-dist/tex/generic/oberdiek/ifpdf.sty))\n",
      "(/usr/share/texlive/texmf-dist/tex/latex/oberdiek/epstopdf-base.sty\n",
      "(/usr/share/texlive/texmf-dist/tex/latex/oberdiek/grfext.sty\n",
      "(/usr/share/texlive/texmf-dist/tex/generic/oberdiek/kvdefinekeys.sty))\n",
      "(/usr/share/texlive/texmf-dist/tex/latex/oberdiek/kvoptions.sty\n",
      "(/usr/share/texlive/texmf-dist/tex/generic/oberdiek/kvsetkeys.sty\n",
      "(/usr/share/texlive/texmf-dist/tex/generic/oberdiek/etexcmds.sty)))\n",
      "(/usr/share/texlive/texmf-dist/tex/latex/latexconfig/epstopdf-sys.cfg))\n",
      "(/usr/share/texmf/tex/latex/lm/ot1lmr.fd)\n",
      "(/usr/share/texmf/tex/latex/lm/omllmm.fd)\n",
      "(/usr/share/texmf/tex/latex/lm/omslmsy.fd)\n",
      "(/usr/share/texmf/tex/latex/lm/omxlmex.fd)\n",
      "</home/manuela/Escritorio/jupyter.png, id=1, 200.75pt x 200.75pt>\n",
      "(/usr/share/texmf/tex/latex/lm/t1lmtt.fd)\n",
      "Underfull \\hbox (badness 10000) in paragraph at lines 22--43\n",
      "\n",
      "\n",
      "Underfull \\hbox (badness 10000) in paragraph at lines 22--43\n",
      "\n",
      "\n",
      "Underfull \\hbox (badness 10000) in paragraph at lines 22--43\n",
      "\n",
      "\n",
      "Underfull \\hbox (badness 10000) in paragraph at lines 22--43\n",
      "\n",
      "\n",
      "Underfull \\hbox (badness 10000) in paragraph at lines 22--43\n",
      "\n",
      "[1{/var/lib/texmf/fonts/map/pdftex/updmap/pdftex.map}]\n",
      "Underfull \\hbox (badness 10000) in paragraph at lines 44--45\n",
      "[]\\T1/lmr/m/n/10 LaTeX_basico.pdf: $\\T1/lmtt/m/n/10 ttps : / / github . com / m\n",
      "anuela98 / Herramientas _\n",
      "\n",
      "Underfull \\hbox (badness 10000) in paragraph at lines 45--46\n",
      "[]\\T1/lmr/m/n/10 latex_basico.tex: $\\T1/lmtt/m/n/10 https : / / github . com / \n",
      "manuela98 / Herramientas _\n",
      "\n",
      "Underfull \\hbox (badness 10000) in paragraph at lines 46--47\n",
      "[]\\T1/lmr/m/n/10 Linux Bash.ipynb: $\\T1/lmtt/m/n/10 https : / / github . com / \n",
      "manuela98 / Herramientas _\n",
      "\n",
      "Underfull \\hbox (badness 10000) in paragraph at lines 47--48\n",
      "[]\\T1/lmr/m/n/10 :Introducci�n a L[]T[]X: $\\T1/lmtt/m/n/10 http : / / sistemas \n",
      ". fciencias . unam . mx /\n",
      "[2] (./taller1.aux)\n",
      "\n",
      "LaTeX Warning: Label(s) may have changed. Rerun to get cross-references right.\n",
      "\n",
      " )\n",
      "(see the transcript file for additional information){/usr/share/texmf/fonts/enc\n",
      "/dvips/lm/lm-mathsy.enc}{/usr/share/texmf/fonts/enc/dvips/lm/lm-rm.enc}{/usr/sh\n",
      "are/texmf/fonts/enc/dvips/lm/lm-mathit.enc}{/usr/share/texmf/fonts/enc/dvips/lm\n",
      "/lm-ec.enc}</usr/share/texmf/fonts/type1/public/lm/lmbx12.pfb></usr/share/texmf\n",
      "/fonts/type1/public/lm/lmmi10.pfb></usr/share/texmf/fonts/type1/public/lm/lmmi7\n",
      ".pfb></usr/share/texmf/fonts/type1/public/lm/lmr10.pfb></usr/share/texmf/fonts/\n",
      "type1/public/lm/lmr12.pfb></usr/share/texmf/fonts/type1/public/lm/lmr17.pfb></u\n",
      "sr/share/texmf/fonts/type1/public/lm/lmr7.pfb></usr/share/texmf/fonts/type1/pub\n",
      "lic/lm/lmsy10.pfb></usr/share/texmf/fonts/type1/public/lm/lmtt10.pfb>\n",
      "Output written on taller1.pdf (2 pages, 153261 bytes).\n",
      "Transcript written on taller1.log.\n"
     ]
    }
   ],
   "source": [
    "%%bash\n",
    "touch taller1.txt\n",
    "echo '\\documentclass[14pt,draft]{article}'>>taller1.txt\n",
    "echo '\\usepackage{lmodern}'>>taller1.txt\n",
    "echo '\\usepackage[T1]{fontenc}'>>taller1.txt\n",
    "echo '\\usepackage[spanish,activeacute]{babel}'>>taller1.txt\n",
    "echo '\\usepackage{mathtools}'>>taller1.txt\n",
    "echo '\\usepackage[utf8]{inputenc}'>>taller1.txt\n",
    "echo '\\usepackage{url}'>>taller1.txt\n",
    "echo '\\title{\\LaTeX \\_ taller}'>>taller1.txt\n",
    "echo '\\author{Manuela Jaramillo Rendón}'>>taller1.txt\n",
    "echo '\\usepackage{graphicx}'>>taller1.txt\n",
    "echo '\\begin{document}'>>taller1.txt\n",
    "echo '\\maketitle'>>taller1.txt\n",
    "echo '\\section{Título}'>>taller1.txt\n",
    "echo '\\subsection{Subtítulo}'>>taller1.txt\n",
    "echo '\\begin{figure}[htp]'>>taller1.txt\n",
    "echo '\\centering'>>taller1.txt\n",
    "echo '%\\includegraphics[width=8cm,height=8cm]{extra.png}'>>taller1.txt\n",
    "echo '\\includegraphics[scale=1.00]{/home/manuela/Escritorio/jupyter.png}'>>taller1.txt #\n",
    "echo '\\caption{extra.png}'>>taller1.txt\n",
    "echo '\\label{bb}'>>taller1.txt\n",
    "echo '\\end{figure}'>>taller1.txt\n",
    "echo '\\begin{tabular}{|c |r|}'>>taller1.txt\n",
    "echo '\\hline'>>taller1.txt\n",
    "echo 'Constantes y funciones & Comando \\LaTeX \\\\'>>taller1.txt\n",
    "echo '\\hline'>>taller1.txt\n",
    "echo '$\\pi$ &\\textbackslash pi\\\\'>>taller1.txt\n",
    "echo '\\hline'>>taller1.txt\n",
    "echo '$\\phi$ &\\textbackslash phi\\\\'>>taller1.txt\n",
    "echo '\\hline'>>taller1.txt\n",
    "echo '$\\Gamma( x )$&\\textbackslash Gamma(x)\\\\'>>taller1.txt\n",
    "echo '\\hline'>>taller1.txt\n",
    "echo '$e^x$ & e\\^{}x\\\\'>>taller1.txt\n",
    "echo '\\hline'>>taller1.txt\n",
    "echo '$\\frac{a}{b}$&\\textbackslash frac\\{a\\}\\{b\\}\\\\'>>taller1.txt\n",
    "echo '\\hline'>>taller1.txt\n",
    "echo '\\end{tabular}'>>taller1.txt\n",
    "echo '\\\\'>>taller1.txt\n",
    "echo '\\\\\\\\'>>taller1.txt\n",
    "echo '$(x^2+1) +(5)  = 1x^2+6$\\\\'>>taller1.txt\n",
    "echo '\\\\'>>taller1.txt\n",
    "echo '\\\\\\\\'>>taller1.txt\n",
    "echo '$(3{,}2x^3 + x^2 + 5x) + (2x^2 - 0{,}1)=3.2x^3+3x^2+5x-0.1.$'>>taller1.txt\n",
    "echo '\\begin{thebibliography}{9}'>>taller1.txt\n",
    "echo '\\bibitem{cheat}  LaTeX\\_basico.pdf:\\hspace{0.3cm}\\url{ttps://github.com/manuela98/Herramientas_Computacionales/blob/master/LaTeX_basico.pdf}. Consultado el 24 de agosto de 2016.'>>taller1.txt\n",
    "echo '\\bibitem{cheat}  latex\\_basico.tex:\\hspace{0.3cm}\\url{https://github.com/manuela98/Herramientas_Computacionales/blob/master/LaTeX_basico.tex}. Consultado el 24 de agosto de 2016.'>>taller1.txt\n",
    "echo '\\bibitem{cheat}Linux\\hspace{0.1cm}Bash.ipynb:\\hspace{0.3cm}\\url{https://github.com/manuela98/Herramientas_Computacionales/blob/master/Linux/Bash.ipynb}. Consultado el 24 de agosto de 2016.'>>taller1.txt\n",
    "echo '\\bibitem{cheat}:Introducción\\hspace{0.1cm}a\\hspace{0.1cm}\\LaTeX:\\hspace{0.3cm}\\url{http://sistemas.fciencias.unam.mx/~misraim/notas.pdf}. Consultado el 24 de agosto de 2016.'>>taller1.txt\n",
    "echo '\\end{thebibliography}'>>taller1.txt\n",
    "echo '\\end{document}'>>taller1.txt\n",
    "pdflatex taller1.txt"
   ]
  },
  {
   "cell_type": "markdown",
   "metadata": {},
   "source": [
    "## Punto 5 (0,4 unidades)  \n",
    "\n",
    "Enlace toda referencia que haya utilizado. Como minimo, debe enlazar los resumenes de clase. Realice esto creando una celda inmediatamente abajo de esta.  "
   ]
  },
  {
   "cell_type": "markdown",
   "metadata": {},
   "source": [
    "[Jupyter+Notebook+Intermedio.pdf](https://github.com/manuela98/Herramientas_Computacionales/blob/master/Jupyter%2BNotebook%2BIntermedio.pdf)  \n",
    "\n",
    "[Introduccón a Latex](http://sistemas.fciencias.unam.mx/~misraim/notas.pdf)\n",
    "\n",
    "[Linux+Bash.pdf](https://github.com/manuela98/Herramientas_Computacionales/blob/master/Linux%2BBash.pdf)\n",
    "\n",
    "\n",
    "[Linux+Bash.pdf](https://github.com/manuela98/Herramientas_Computacionales/blob/master/LaTeX_basico.tex)\n",
    "\n",
    "\n"
   ]
  },
  {
   "cell_type": "markdown",
   "metadata": {},
   "source": [
    "## Punto 6 (0,6 unidades)  \n",
    "\n",
    "En una celda desarrolle:\n",
    "\n",
    "+ Instale el compresor zip e indique la instrucción para instalarlo (aún si ya lo tenía instalado) en una celda markdown.  \n",
    "+ Comprima todos los archivos asociados a este taller en un zip con la secuencia de nombre indicada al inicio.  \n",
    "+ Muestre solo las propiedades del archivo zip que genero sin usar el comodin para la instrucción de listar ni la secuencia de nombre (use una celda de código).  "
   ]
  },
  {
   "cell_type": "markdown",
   "metadata": {},
   "source": [
    "sudo apt-get install zip unzip"
   ]
  },
  {
   "cell_type": "code",
   "execution_count": 6,
   "metadata": {
    "collapsed": false
   },
   "outputs": [
    {
     "name": "stdout",
     "output_type": "stream",
     "text": [
      "  adding: Taller_1.ipynb (deflated 73%)\n",
      "  adding: taller1.pdf (deflated 1%)\n",
      "  adding: archivo.sh (stored 0%)\n",
      "  adding: extra.png (deflated 60%)\n",
      "Archive:  98111066051JaramilloT1.zip\n",
      " Length   Method    Size  Cmpr    Date    Time   CRC-32   Name\n",
      "--------  ------  ------- ---- ---------- ----- --------  ----\n",
      "   20272  Defl:N     5458  73% 2016-08-27 14:53 30a6aeb3  Taller_1.ipynb\n",
      "  153261  Defl:N   152376   1% 2016-08-27 14:54 29504e16  taller1.pdf\n",
      "      40  Stored       40   0% 2016-08-27 14:54 28d3a439  archivo.sh\n",
      "    7834  Defl:N     3157  60% 2016-08-22 12:53 5a152797  extra.png\n",
      "--------          -------  ---                            -------\n",
      "  181407           161031  11%                            4 files\n"
     ]
    }
   ],
   "source": [
    "%%bash\n",
    "zip 98111066051JaramilloT1.zip Taller_1.ipynb taller1.pdf archivo.sh extra.png\n",
    "unzip -v 98111066051JaramilloT1.zip "
   ]
  }
 ],
 "metadata": {
  "kernelspec": {
   "display_name": "Python [Root]",
   "language": "python",
   "name": "Python [Root]"
  },
  "language_info": {
   "codemirror_mode": {
    "name": "ipython",
    "version": 2
   },
   "file_extension": ".py",
   "mimetype": "text/x-python",
   "name": "python",
   "nbconvert_exporter": "python",
   "pygments_lexer": "ipython2",
   "version": "2.7.12"
  }
 },
 "nbformat": 4,
 "nbformat_minor": 0
}

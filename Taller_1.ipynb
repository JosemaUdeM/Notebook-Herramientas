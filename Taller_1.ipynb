{
 "cells": [
  {
   "cell_type": "markdown",
   "metadata": {},
   "source": [
    "# Taller 1: Condiciones  \n",
    "\n",
    "La presentación de este taller cumple la evaluación del progreso en los siguientes elementos del curso:  \n",
    "\n",
    "+ Linux.  \n",
    "    + Uso básico de comandos en consola.  \n",
    "    + _Scripting_ en bash.  \n",
    "+ Jupyter Notebooks.  \n",
    "    + Uso de celdas markdown y de código.  \n",
    "    + Visualización dinamica con IPython API.  \n",
    "+ LaTeX.  \n",
    "    + Escritura de ecuaciones en LaTeX.  \n",
    "    + Edición en LaTeX puro.  \n",
    "    \n",
    "Para la entrega de este documento se requiere entregar en formato zip al correo del docente, el documento principal `Taller_1.ipynb`, donde usted desarrolla las actividades documentando y ejecutando su código, y todo archivo adicional que se genere acorde a las solicitudes del taller. El archivo comprimido debe tener la secuencia de nombre dada por su documento de identidad, apellido y `T1`, ejemplo `1111111111ApellidoT1.zip`.  \n",
    "\n",
    "El plazo de la entrega es 20 de agosto a la medianoche.   \n",
    "\n",
    "Puede usar cualquier _magic_ que requiera (de única linea o de múltiple linea). El único `import` que puede usar en este notebook es:  "
   ]
  },
  {
   "cell_type": "code",
   "execution_count": null,
   "metadata": {
    "collapsed": false
   },
   "outputs": [],
   "source": [
    "from __future__ import print_function, division # Compatibilidad python 2 y 3\n",
    "try: # En caso de tener instalado numpy puede importarlo.\n",
    "    from numpy import array\n",
    "except:\n",
    "    print(\"Si desea usar numpy, por favor instale.\")\n",
    "from IPython.display import display, Latex, Markdown # Visualización de salida de código"
   ]
  },
  {
   "cell_type": "markdown",
   "metadata": {},
   "source": [
    "## Punto 1 (0,8 unidades)  \n",
    "\n",
    "Realice una función python en la celda siguiente, que dados dos vectores (es libre de representarlos como desee) devuelva su suma renderizada como ecuación en el notebook.  "
   ]
  },
  {
   "cell_type": "code",
   "execution_count": 30,
   "metadata": {
    "collapsed": false
   },
   "outputs": [
    {
     "data": {
      "text/markdown": [
       "$3.2x^3$ + $1x^2$ + $5x$ + $2x^2$ + $-0.1$"
      ],
      "text/plain": [
       "<IPython.core.display.Markdown object>"
      ]
     },
     "metadata": {},
     "output_type": "display_data"
    }
   ],
   "source": [
    "from __future__ import print_function, division # Compatibilidad python 2 y 3\n",
    "try: # En caso de tener instalado numpy puede importarlo.\n",
    "    from numpy import array\n",
    "except:\n",
    "    print(\"Si desea usar numpy, por favor instale.\")\n",
    "from IPython.display import display, Latex, Markdown # Visualización de salida de código\n",
    "\n",
    "def Monomio(coeficiente,grado):\n",
    "            if grado == 0:\n",
    "                rst =\"$\"+ str(coeficiente)+ \"$\" \n",
    "            if grado == 1:\n",
    "                rst = \"$\"+str(coeficiente) + 'x'+\"$\"\n",
    "            if grado >= 2:\n",
    "                rst = \"$\"+str(coeficiente) + 'x^' + str(grado)+\"$\"\n",
    "\n",
    "\n",
    "            return rst\n",
    "        \n",
    "def Polinomio(Lista_monomios):\n",
    "\n",
    "        s = ''\n",
    "        \n",
    "\n",
    "        for x in Lista_monomios:\n",
    "\n",
    "            s += str(x) + ' + '\n",
    "\n",
    "        return s[:-3]\n",
    "    \n",
    "w=[Monomio(3.2,3),Monomio(1,2),Monomio(5,1)]\n",
    "z=[Monomio(2,2),Monomio(-0.1,0)]\n",
    "r =str(Polinomio([Polinomio(w) , Polinomio(z)]))\n",
    "display(Markdown(r))"
   ]
  },
  {
   "cell_type": "markdown",
   "metadata": {},
   "source": [
    "En la celda a continuación evalue los casos de prueba:  \n",
    "\n",
    "+ $(x^2+1) + 5,$  \n",
    "+ $(3{,}2x^3 + x^2 + 5x) + (2x^2 - 0{,}1).$  "
   ]
  },
  {
   "cell_type": "markdown",
   "metadata": {
    "collapsed": true
   },
   "source": [
    "\n"
   ]
  },
  {
   "cell_type": "markdown",
   "metadata": {},
   "source": [
    "## Punto 2  (0,5 unidades)\n",
    "\n",
    "Realice una tabla markdown que muestre las equivalencias de constantes y funciones matematicas renderizadas adecuadamente con el comando LaTeX que los genera. La primera columna debe ser centrada y la segunda alineada a la derecha.  \n",
    "\n",
    "+ Constante pi.  \n",
    "+ Proporción aurea.  \n",
    "+ Función gamma.  \n",
    "+ Función exponencial.  \n",
    "+ Una expresión fraccionaria.  \n",
    "\n",
    "Cree una celda debajo de esta del tipo adecuado para solucionar.  "
   ]
  },
  {
   "cell_type": "markdown",
   "metadata": {},
   "source": [
    " | Contante pi | Proporcion Aurea | funcion gamma |  funcion exponencial | expresion fraccionaria | \n",
    "| :---: |:---:|:---:|:---:|:---:|\n",
    "| $\\pi$| $\\phi \\ \\Phi$| $\\gamma \\ \\Gamma$ | $x^{ab}$ |  $\\frac{a}{b}$ |\n",
    "| Comando: |Comando:|Comando:|Comando:|Comando:|\n",
    "| \\pi| \\phi \\ \\Phi| \\gamma \\ \\Gamma | x^{ab} |  \\frac{a}{b} |"
   ]
  },
  {
   "cell_type": "markdown",
   "metadata": {},
   "source": [
    "## Punto 3  (1,2 unidades)\n",
    "\n",
    "Cree la celda requerida para este punto inmediatamente a continuación. Debe crear desde la celda un archivo para ejecución con los permisos adecuados para ser ejecutado por el propietario y por los usuarios que no pertenezcan al mismo grupo del propietario. El comportamiento del _script_ se describe a continuación:  \n",
    "\n",
    "+ Debe recibir como argumento una url de una imagen png. No se requiere validar formato.  \n",
    "+ Debe crear un directorio `punto3` en el directorio de descargas del usuario actual, sin afectar el directorio en caso de existir.  \n",
    "+ Si el directorio ya existe, valida la presencia de archivos `.png`, y solo en caso de existir procede a eliminar cualquier archivo presente (asi no sea de imagen).  \n",
    "+ Debe descargar la imagen al directorio `punto3` con el nombre `descarga.png`.  \n",
    "+ Mover el directorio `punto3` al directorio de este notebook.  \n",
    "+ Extraiga la imagen del directorio `punto3` al directorio del notebook con el nombre `extra.png`.  \n",
    "+ Elimine el directorio `punto3`.  \n",
    "\n",
    "En la misma celda ejecute el _script_ que creo.  "
   ]
  },
  {
   "cell_type": "code",
   "execution_count": 31,
   "metadata": {
    "collapsed": false
   },
   "outputs": [
    {
     "name": "stderr",
     "output_type": "stream",
     "text": [
      "./archivo.sh: línea 4: -*-: orden no encontrada\n",
      "./archivo.sh: línea 5: http://vignette1.wikia.nocookie.net/ironman/images/b/b3/Photo%281074%29.png: No existe el archivo o el directorio\n",
      "--2016-08-27 14:40:16--  http://vignette1.wikia.nocookie.net/ironman/images/b/b3/Photo%281074%29.png\n",
      "Resolviendo vignette1.wikia.nocookie.net (vignette1.wikia.nocookie.net)... 23.235.33.194, 104.156.85.194, 104.156.81.194, ...\n",
      "Conectando con vignette1.wikia.nocookie.net (vignette1.wikia.nocookie.net)[23.235.33.194]:80... conectado.\n",
      "Petición HTTP enviada, esperando respuesta... 200 OK\n",
      "Longitud: 246386 (241K) [image/png]\n",
      "Grabando a: “descarga.png”\n",
      "\n",
      "     0K .......... .......... .......... .......... .......... 20% 82,3K 2s\n",
      "    50K .......... .......... .......... .......... .......... 41% 47,0K 2s\n",
      "   100K .......... .......... .......... .......... .......... 62% 27,7K 2s\n",
      "   150K .......... .......... .......... .......... .......... 83% 38,6K 1s\n",
      "   200K .......... .......... .......... ..........           100% 26,8K=6,3s\n",
      "\n",
      "2016-08-27 14:40:22 (38,3 KB/s) - “descarga.png” guardado [246386/246386]\n",
      "\n"
     ]
    }
   ],
   "source": [
    "%%bash\n",
    "\n",
    "touch archivo.sh && chmod 765 archivo.sh\n",
    "echo directorio=$(pwd) > archivo.sh\n",
    "echo $directorio >> archivo.sh\n",
    "echo '#!/bin/bash' >> archivo.sh && echo '-*- ENCODING: UTF-8 -*-' >> archivo.sh && echo 'http://vignette1.wikia.nocookie.net/ironman/images/b/b3/Photo%281074%29.png' >> archivo.sh\n",
    "echo 'cd $HOME && cd Descargas && mkdir -p punto3' >> archivo.sh\n",
    "echo 'wget -O descarga.png http://vignette1.wikia.nocookie.net/ironman/images/b/b3/Photo%281074%29.png' >> archivo.sh \n",
    "echo 'mv  descarga.png punto3' >> archivo.sh\n",
    "echo 'mv punto3 $directorio' >> archivo.sh\n",
    "echo 'mv $directorio/punto3/descarga.png $directorio' >> archivo.sh\n",
    "echo 'rm -rf $directorio/punto3' >> archivo.sh\n",
    "echo 'mv /$directorio/descarga.png /$directorio/extra.png' >> archivo.sh\n",
    "./archivo.sh"
   ]
  },
  {
   "cell_type": "markdown",
   "metadata": {},
   "source": [
    "## Punto 4  (1,5 unidad)\n",
    "\n",
    "Para este punto, el valor del punto corresponderá a la unidad dividida entre el número de celdas que recurra para la solución. Debe crear un archivo simple de LaTeX en este directorio con las siguientes especificaciones, desde el notebook.  \n",
    "\n",
    "+ Tamaño de letra 14.  \n",
    "+ Tamaño de documento carta.  \n",
    "+ Versión borrador.  \n",
    "+ Su nombre como autor y titulo del documento `latex_taller`.  \n",
    "+ Generación de la portada por comando LaTeX. \n",
    "+ Genere una redacción simple ilustrando las siguientes acciones en LaTeX.  \n",
    "    + Titulo de primer y segundo nivel.\n",
    "    + Incluir la imagen `extra.png`.  \n",
    "    + Incluir la tabla del punto 2.  \n",
    "    + Incluir en ambiente de ecuación la suma del segundo polinomio del punto 1, con coma decimal sin usar la coma de forma explicita.   \n",
    "    + Incluir la bibliografía usada para este notebook sin citación pero debe visualizarse.  \n",
    "    + El documento debe tener fecha automatica en formato acorde al español.  \n",
    "    \n",
    "Compile el archivo a pdf, y cree un enlace del notebook al pdf.  "
   ]
  },
  {
   "cell_type": "code",
   "execution_count": 32,
   "metadata": {
    "collapsed": false
   },
   "outputs": [
    {
     "name": "stdout",
     "output_type": "stream",
     "text": [
      "This is pdfTeX, Version 3.1415926-2.5-1.40.14 (TeX Live 2013/Debian)\n",
      " restricted \\write18 enabled.\n",
      "entering extended mode\n",
      "(./Latex.txt\n",
      "LaTeX2e <2011/06/27>\n",
      "Babel <3.9h> and hyphenation patterns for 5 languages loaded.\n",
      "(/usr/share/texlive/texmf-dist/tex/latex/base/article.cls\n",
      "Document Class: article 2007/10/19 v1.4h Standard LaTeX document class\n",
      "(/usr/share/texlive/texmf-dist/tex/latex/base/size10.clo))\n",
      "(/usr/share/texlive/texmf-dist/tex/latex/base/inputenc.sty\n",
      "(/usr/share/texlive/texmf-dist/tex/latex/base/utf8.def\n",
      "(/usr/share/texlive/texmf-dist/tex/latex/base/t1enc.dfu)\n",
      "(/usr/share/texlive/texmf-dist/tex/latex/base/ot1enc.dfu)\n",
      "(/usr/share/texlive/texmf-dist/tex/latex/base/omsenc.dfu)))\n",
      "(/usr/share/texlive/texmf-dist/tex/latex/geometry/geometry.sty\n",
      "(/usr/share/texlive/texmf-dist/tex/latex/graphics/keyval.sty)\n",
      "(/usr/share/texlive/texmf-dist/tex/generic/oberdiek/ifpdf.sty)\n",
      "(/usr/share/texlive/texmf-dist/tex/generic/oberdiek/ifvtex.sty)\n",
      "(/usr/share/texlive/texmf-dist/tex/generic/ifxetex/ifxetex.sty))\n",
      "(/usr/share/texlive/texmf-dist/tex/latex/base/fontenc.sty\n",
      "(/usr/share/texlive/texmf-dist/tex/latex/base/t1enc.def))\n",
      "(/usr/share/texlive/texmf-dist/tex/generic/babel/babel.sty\n",
      "(/usr/share/texlive/texmf-dist/tex/generic/babel-spanish/spanish.ldf\n",
      "(/usr/share/texlive/texmf-dist/tex/generic/babel/babel.def)))\n",
      "(/usr/share/texlive/texmf-dist/tex/latex/amsmath/amsmath.sty\n",
      "For additional information on amsmath, use the `?' option.\n",
      "(/usr/share/texlive/texmf-dist/tex/latex/amsmath/amstext.sty\n",
      "(/usr/share/texlive/texmf-dist/tex/latex/amsmath/amsgen.sty))\n",
      "(/usr/share/texlive/texmf-dist/tex/latex/amsmath/amsbsy.sty)\n",
      "(/usr/share/texlive/texmf-dist/tex/latex/amsmath/amsopn.sty))\n",
      "(/usr/share/texlive/texmf-dist/tex/latex/amsfonts/amssymb.sty\n",
      "(/usr/share/texlive/texmf-dist/tex/latex/amsfonts/amsfonts.sty))\n",
      "(/usr/share/texlive/texmf-dist/tex/latex/hyperref/hyperref.sty\n",
      "(/usr/share/texlive/texmf-dist/tex/generic/oberdiek/hobsub-hyperref.sty\n",
      "(/usr/share/texlive/texmf-dist/tex/generic/oberdiek/hobsub-generic.sty))\n",
      "(/usr/share/texlive/texmf-dist/tex/latex/oberdiek/auxhook.sty)\n",
      "(/usr/share/texlive/texmf-dist/tex/latex/oberdiek/kvoptions.sty)\n",
      "(/usr/share/texlive/texmf-dist/tex/latex/hyperref/pd1enc.def)\n",
      "(/usr/share/texlive/texmf-dist/tex/latex/latexconfig/hyperref.cfg)\n",
      "(/usr/share/texlive/texmf-dist/tex/latex/url/url.sty))\n",
      "\n",
      "Package hyperref Message: Driver (autodetected): hpdftex.\n",
      "\n",
      "(/usr/share/texlive/texmf-dist/tex/latex/hyperref/hpdftex.def\n",
      "(/usr/share/texlive/texmf-dist/tex/latex/oberdiek/rerunfilecheck.sty))\n",
      "(/usr/share/texlive/texmf-dist/tex/latex/graphics/graphicx.sty\n",
      "(/usr/share/texlive/texmf-dist/tex/latex/graphics/graphics.sty\n",
      "(/usr/share/texlive/texmf-dist/tex/latex/graphics/trig.sty)\n",
      "(/usr/share/texlive/texmf-dist/tex/latex/latexconfig/graphics.cfg)\n",
      "(/usr/share/texlive/texmf-dist/tex/latex/pdftex-def/pdftex.def)))\n",
      "(/usr/share/texlive/texmf-dist/tex/latex/listings/listings.sty\n",
      "(/usr/share/texlive/texmf-dist/tex/latex/listings/lstmisc.sty)\n",
      "(/usr/share/texlive/texmf-dist/tex/latex/listings/listings.cfg))\n",
      "(/usr/share/texlive/texmf-dist/tex/latex/caption/caption.sty\n",
      "(/usr/share/texlive/texmf-dist/tex/latex/caption/caption3.sty))\n",
      "(/usr/share/texlive/texmf-dist/tex/latex/tools/multicol.sty)\n",
      "(/usr/share/texlive/texmf-dist/tex/latex/cite/cite.sty)\n",
      "\n",
      "LaTeX Warning: Unused global option(s):\n",
      "    [14pt].\n",
      "\n",
      "No file Latex.aux.\n",
      "*geometry* driver: auto-detecting\n",
      "*geometry* detected driver: pdftex\n",
      "\n",
      "Package hyperref Warning: Draft mode on.\n",
      "\n",
      "(/usr/share/texlive/texmf-dist/tex/latex/hyperref/nameref.sty\n",
      "(/usr/share/texlive/texmf-dist/tex/generic/oberdiek/gettitlestring.sty))\n",
      "(/usr/share/texlive/texmf-dist/tex/context/base/supp-pdf.mkii\n",
      "[Loading MPS to PDF converter (version 2006.09.02).]\n",
      ") (/usr/share/texlive/texmf-dist/tex/latex/oberdiek/epstopdf-base.sty\n",
      "(/usr/share/texlive/texmf-dist/tex/latex/oberdiek/grfext.sty)\n",
      "(/usr/share/texlive/texmf-dist/tex/latex/latexconfig/epstopdf-sys.cfg))\n",
      "(/usr/share/texlive/texmf-dist/tex/latex/base/t1cmtt.fd) [1{/var/lib/texmf/font\n",
      "s/map/pdftex/updmap/pdftex.map}]\n",
      "(/usr/share/texlive/texmf-dist/tex/latex/amsfonts/umsa.fd)\n",
      "(/usr/share/texlive/texmf-dist/tex/latex/amsfonts/umsb.fd)\n",
      "<extra.png, id=8, 471.7625pt x 480.79625pt> [2] [3] (./Latex.aux)\n",
      "\n",
      "LaTeX Warning: Label(s) may have changed. Rerun to get cross-references right.\n",
      "\n",
      " ) </home/josema/.texmf-var/fonts/pk/ljfour/jknappen/ec/ecrm0700.600pk> </home/\n",
      "josema/.texmf-var/fonts/pk/ljfour/jknappen/ec/ecbx1000.600pk> </home/josema/.te\n",
      "xmf-var/fonts/pk/ljfour/jknappen/ec/ecbx1200.600pk> </home/josema/.texmf-var/fo\n",
      "nts/pk/ljfour/jknappen/ec/ecbx1440.600pk> </home/josema/.texmf-var/fonts/pk/ljf\n",
      "our/jknappen/ec/ecrm1200.600pk> </home/josema/.texmf-var/fonts/pk/ljfour/jknapp\n",
      "en/ec/ecrm1728.600pk> </home/josema/.texmf-var/fonts/pk/ljfour/jknappen/ec/ecrm\n",
      "1000.600pk> </home/josema/.texmf-var/fonts/pk/ljfour/jknappen/ec/ectt1000.600pk\n",
      "></usr/share/texlive/texmf-dist/fonts/type1/public/amsfonts/cm/cmex10.pfb></usr\n",
      "/share/texlive/texmf-dist/fonts/type1/public/amsfonts/cm/cmmi10.pfb></usr/share\n",
      "/texlive/texmf-dist/fonts/type1/public/amsfonts/cm/cmmi7.pfb></usr/share/texliv\n",
      "e/texmf-dist/fonts/type1/public/amsfonts/cm/cmr10.pfb></usr/share/texlive/texmf\n",
      "-dist/fonts/type1/public/amsfonts/cm/cmr7.pfb></usr/share/texlive/texmf-dist/fo\n",
      "nts/type1/public/amsfonts/cm/cmsy10.pfb>\n",
      "Output written on Latex.pdf (3 pages, 94674 bytes).\n",
      "Transcript written on Latex.log.\n"
     ]
    }
   ],
   "source": [
    "\n",
    "%%bash\n",
    " \n",
    "echo '\\documentclass[14pt,draft]{article}' > Latex.txt\n",
    "\n",
    "echo '\\usepackage[utf8]{inputenc}' >> Latex.txt\n",
    "\n",
    "echo '\\usepackage[letterpaper,margin={1.5cm}]{geometry}' >> Latex.txt\n",
    "\n",
    "echo '\\usepackage[T1]{fontenc}' >> Latex.txt\n",
    "\n",
    "echo '\\usepackage[spanish]{babel}' >> Latex.txt\n",
    "\n",
    "echo '\\usepackage{amsmath, amssymb, amsfonts}' >> Latex.txt\n",
    "\n",
    "echo '\\usepackage{hyperref}' >> Latex.txt\n",
    "\n",
    "echo '\\usepackage{url}' >> Latex.txt\n",
    "\n",
    "echo '\\usepackage{graphicx}' >> Latex.txt\n",
    "\n",
    "echo '\\usepackage{listings}' >> Latex.txt\n",
    " \n",
    "echo '\\usepackage{caption}' >> Latex.txt\n",
    "\n",
    "echo '\\usepackage{multicol}' >> Latex.txt\n",
    "\n",
    "echo '\\usepackage{cite}' >> Latex.txt\n",
    "\n",
    "echo '\\graphicspath{{./}}' >> Latex.txt\n",
    "\n",
    "echo '\\allowdisplaybreaks' >> Latex.txt\n",
    "\n",
    "echo '\\setlength{\\parindent}{0cm}' >> Latex.txt\n",
    " \n",
    "\n",
    "\n",
    "\n",
    "\n",
    "echo '\\begin{document}' >> Latex.txt\n",
    "\n",
    "echo '\\title{Latex taller}' >> Latex.txt\n",
    "echo '\\author{Jose Manuel Vergara Alvarez}' >> Latex.txt\n",
    "echo '\\date{\\today}' >> Latex.txt\n",
    "echo '\\verb-Esta es la Portada-.' >> Latex.txt\n",
    "echo '\\maketitle' >> Latex.txt\n",
    "\n",
    "\n",
    "\n",
    "echo '\\section{Titulo de nivel 1}' >> Latex.txt\n",
    "\n",
    "echo '\\subsection{Titulo de nivel 2}' >> Latex.txt\n",
    "\n",
    "echo '\\subsubsection{Imágen}' >> Latex.txt\n",
    "\n",
    "echo '\\begin{figure}[h]' >> Latex.txt\n",
    "echo '\\begin{flushright}' >> Latex.txt\n",
    "echo '\\includegraphics[scale=0.5]{extra.png}' >> Latex.txt\n",
    "echo '\\caption{Imagen punto 3} \\label{i:punto 3}' >> Latex.txt\n",
    "echo '\\end{flushright}' >> Latex.txt\n",
    "echo '\\end{figure}' >> Latex.txt\n",
    "\n",
    "echo '\\subsubsection{Tabla}' >> Latex.txt\n",
    "\n",
    "\n",
    "echo '\\begin{table}[htbp]' >> Latex.txt\n",
    "echo '\\begin{center}' >> Latex.txt\n",
    "echo '\\begin{tabular}{|l|l|}' >> Latex.txt\n",
    "echo '\\hline' >> Latex.txt\n",
    "echo 'Simbolo & Comando Latex \\\\' >> Latex.txt\n",
    "echo '\\hline \\hline' >> Latex.txt\n",
    "echo '$\\pi$ & \\verb-\\pi- \\\\ \\hline' >> Latex.txt\n",
    "echo '$\\phi$ \\ $\\Phi$ & \\verb-\\phi \\ \\Phi- \\\\ \\hline' >> Latex.txt\n",
    "echo '$\\gamma$ \\ $\\Gamma$ & \\verb-\\gamma \\ \\Gamma- \\\\ \\hline' >> Latex.txt\n",
    "echo  '$x^{ab}$ &  \\verb-$x^{ab}$-  \\\\ \\hline' >> Latex.txt\n",
    "echo '$\\frac{a}{b}$ & \\verb-$\\frac{a}{b}$- \\\\ \\hline' >> Latex.txt\n",
    "echo '\\end{tabular}' >> Latex.txt\n",
    "echo '\\caption{Tabla punto 2.}' >> Latex.txt\n",
    "echo '\\label{tabla:sencilla}' >> Latex.txt\n",
    "echo '\\end{center}' >> Latex.txt\n",
    "echo '\\end{table}' >> Latex.txt\n",
    "\n",
    "\n",
    "echo '\\begin{equation}' >> Latex.txt\n",
    "echo '\\left(3.2x^3+x^2+5x+2x^2-0.1  = 3.2x^3+3x^2+5x-0.1\\right)\\label{ec:ecuacion}' >> Latex.txt\n",
    "echo '\\end{equation}' >> Latex.txt\n",
    "\n",
    "\n",
    "echo '\\begin{thebibliography}{9}' >> Latex.txt\n",
    "echo '\\bibitem{cheat} \\LaTeX \\ Facil. \\url{http://nokyotsu.com/latex/curso.html/}. Consultado el 23 de agosto de 2016.' >> Latex.txt\n",
    "echo '\\bibitem{cheate} \\LaTeX \\ Basico. \\url{https://www.dropbox.com/sh/lu0gesogninjdiy/AAC-ozKXpxxLwLR31eEByEqca?dl=0/}. Consultado el 23 de agosto de 2016.'>> Latex.txt\n",
    "echo '\\end{thebibliography}' >> Latex.txt\n",
    "\n",
    "echo '\\end{document}' >> Latex.txt\n",
    "\n",
    "pdflatex Latex.txt\n",
    "\n",
    "##[Documento PDF Latex](file:///home/josema/Descargas/Taller/Latex.pdf)"
   ]
  },
  {
   "cell_type": "markdown",
   "metadata": {},
   "source": [
    "## Punto 5 (0,4 unidades)  \n",
    "\n",
    "Enlace toda referencia que haya utilizado. Como minimo, debe enlazar los resumenes de clase. Realice esto creando una celda inmediatamente abajo de esta.  "
   ]
  },
  {
   "cell_type": "markdown",
   "metadata": {},
   "source": [
    "### Referencias: \n",
    "\n",
    "+ [Latex Basico](https://github.com/cosmoscalibur/herramientas_computacionales/blob/master/LaTeX_basico.pdf \"Enlace redirige a Latex Basico\").  \n",
    "+ [Bash linux](https://github.com/cosmoscalibur/herramientas_computacionales/blob/master/Linux%2BBash.pdf \"Enlace redirige a Linux_Bash\").  \n",
    "+ [Linux Basico](https://github.com/cosmoscalibur/herramientas_computacionales/blob/master/Linux%2BBasico.pdf \"Enlace redirige a Linux Basico\").\n",
    "+ [Jupyter Notebook intermedio](https://github.com/cosmoscalibur/herramientas_computacionales/blob/master/Jupyter%2BNotebook%2BIntermedio.pdf \"Enlace redirige a Jupyter notebook intermedio\")."
   ]
  },
  {
   "cell_type": "markdown",
   "metadata": {},
   "source": [
    "\n",
    "## Punto 6 (0,6 unidades)  \n",
    "\n",
    "En una celda desarrolle:\n",
    "\n",
    "+ Instale el compresor zip (si ya lo instalo, igual ejecute la instrucción de instalación).  \n",
    "+ Comprima todos los archivos de este directorio en un zip con la secuencia de nombre indicada al inicio.  \n",
    "+ Muestre solo las propiedades del archivo zip que genero sin usar el comodin para la instrucción de listar ni la secuencia de nombre.  "
   ]
  },
  {
   "cell_type": "code",
   "execution_count": 35,
   "metadata": {
    "collapsed": false
   },
   "outputs": [
    {
     "name": "stdout",
     "output_type": "stream",
     "text": [
      "/bin/sh: 1: Sudo: not found\n",
      "updating: Taller_1.ipynb (deflated 74%)\n",
      "updating: archivo.sh (deflated 49%)\n",
      "updating: Latex.txt (deflated 51%)\n",
      "updating: Latex.pdf (deflated 17%)\n",
      "updating: Latex.log (deflated 78%)\n",
      "updating: Latex.aux (deflated 68%)\n",
      "updating: extra.png (deflated 0%)\n",
      "Archive:  98080155204VergaraT1.zip\n",
      " Length   Method    Size  Cmpr    Date    Time   CRC-32   Name\n",
      "--------  ------  ------- ---- ---------- ----- --------  ----\n",
      "   24559  Defl:N     6457  74% 2016-08-27 14:40 adae4526  Taller_1.ipynb\n",
      "     466  Defl:N      236  49% 2016-08-27 14:40 80a70967  archivo.sh\n",
      "    1648  Defl:N      813  51% 2016-08-27 14:40 7249a80f  Latex.txt\n",
      "   94674  Defl:N    78811  17% 2016-08-27 14:40 a534db7f  Latex.pdf\n",
      "   33771  Defl:N     7597  78% 2016-08-27 14:40 43261ad9  Latex.log\n",
      "    1833  Defl:N      589  68% 2016-08-27 14:40 9d49ea04  Latex.aux\n",
      "  246386  Defl:N   246008   0% 2016-08-27 14:40 9b1adb58  extra.png\n",
      "--------          -------  ---                            -------\n",
      "  403337           340511  16%                            7 files\n"
     ]
    }
   ],
   "source": [
    "!Sudo apt install zip\n",
    "!zip  98080155204VergaraT1.zip Taller_1.ipynb archivo.sh Latex.txt Latex.pdf Latex.log Latex.aux extra.png\n",
    "!unzip -v 98080155204VergaraT1.zip"
   ]
  },
  {
   "cell_type": "code",
   "execution_count": null,
   "metadata": {
    "collapsed": true
   },
   "outputs": [],
   "source": []
  }
 ],
 "metadata": {
  "kernelspec": {
   "display_name": "Python 2",
   "language": "python",
   "name": "python2"
  },
  "language_info": {
   "codemirror_mode": {
    "name": "ipython",
    "version": 2
   },
   "file_extension": ".py",
   "mimetype": "text/x-python",
   "name": "python",
   "nbconvert_exporter": "python",
   "pygments_lexer": "ipython2",
   "version": "2.7.6"
  }
 },
 "nbformat": 4,
 "nbformat_minor": 0
}
